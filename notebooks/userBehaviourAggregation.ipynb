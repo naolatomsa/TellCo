{
 "cells": [
  {
   "cell_type": "markdown",
   "metadata": {},
   "source": [
    "> # User Behaviour Aggregation"
   ]
  },
  {
   "cell_type": "code",
   "execution_count": 1,
   "metadata": {},
   "outputs": [],
   "source": [
    "import pandas as pd # type: ignore\n",
    "import os\n",
    "os.chdir('..')\n",
    "import pandas as pd\n",
    "import matplotlib.pyplot as plt\n",
    "import seaborn as sns"
   ]
  },
  {
   "cell_type": "markdown",
   "metadata": {},
   "source": [
    ">> ### test connection with database"
   ]
  },
  {
   "cell_type": "code",
   "execution_count": 2,
   "metadata": {},
   "outputs": [
    {
     "data": {
      "text/plain": [
       "<function scripts.dbConnection.test_connection()>"
      ]
     },
     "execution_count": 2,
     "metadata": {},
     "output_type": "execute_result"
    }
   ],
   "source": [
    "from scripts.dbConnection import test_connection\n",
    "test_connection"
   ]
  },
  {
   "cell_type": "markdown",
   "metadata": {},
   "source": [
    ">> ### get engine"
   ]
  },
  {
   "cell_type": "code",
   "execution_count": 3,
   "metadata": {},
   "outputs": [],
   "source": [
    "from scripts.dbConnection import get_engine\n",
    "\n",
    "engine = get_engine()"
   ]
  },
  {
   "cell_type": "markdown",
   "metadata": {},
   "source": [
    ">> ### read data"
   ]
  },
  {
   "cell_type": "code",
   "execution_count": 4,
   "metadata": {},
   "outputs": [],
   "source": [
    "query = \"SELECT * FROM xdr_data LIMIT 10;\"\n",
    "data = pd.read_sql(query, con=engine)"
   ]
  },
  {
   "cell_type": "code",
   "execution_count": 5,
   "metadata": {},
   "outputs": [
    {
     "data": {
      "text/html": [
       "<div>\n",
       "<style scoped>\n",
       "    .dataframe tbody tr th:only-of-type {\n",
       "        vertical-align: middle;\n",
       "    }\n",
       "\n",
       "    .dataframe tbody tr th {\n",
       "        vertical-align: top;\n",
       "    }\n",
       "\n",
       "    .dataframe thead th {\n",
       "        text-align: right;\n",
       "    }\n",
       "</style>\n",
       "<table border=\"1\" class=\"dataframe\">\n",
       "  <thead>\n",
       "    <tr style=\"text-align: right;\">\n",
       "      <th></th>\n",
       "      <th>Bearer Id</th>\n",
       "      <th>Start</th>\n",
       "      <th>Start ms</th>\n",
       "      <th>End</th>\n",
       "      <th>End ms</th>\n",
       "      <th>Dur. (ms)</th>\n",
       "      <th>IMSI</th>\n",
       "      <th>MSISDN/Number</th>\n",
       "      <th>IMEI</th>\n",
       "      <th>Last Location Name</th>\n",
       "      <th>...</th>\n",
       "      <th>Youtube DL (Bytes)</th>\n",
       "      <th>Youtube UL (Bytes)</th>\n",
       "      <th>Netflix DL (Bytes)</th>\n",
       "      <th>Netflix UL (Bytes)</th>\n",
       "      <th>Gaming DL (Bytes)</th>\n",
       "      <th>Gaming UL (Bytes)</th>\n",
       "      <th>Other DL (Bytes)</th>\n",
       "      <th>Other UL (Bytes)</th>\n",
       "      <th>Total UL (Bytes)</th>\n",
       "      <th>Total DL (Bytes)</th>\n",
       "    </tr>\n",
       "  </thead>\n",
       "  <tbody>\n",
       "    <tr>\n",
       "      <th>0</th>\n",
       "      <td>1.311448e+19</td>\n",
       "      <td>4/4/2019 12:01</td>\n",
       "      <td>770.0</td>\n",
       "      <td>4/25/2019 14:35</td>\n",
       "      <td>662.0</td>\n",
       "      <td>1823652.0</td>\n",
       "      <td>2.082014e+14</td>\n",
       "      <td>3.366496e+10</td>\n",
       "      <td>3.552121e+13</td>\n",
       "      <td>9.16456699548519E+015</td>\n",
       "      <td>...</td>\n",
       "      <td>15854611.0</td>\n",
       "      <td>2501332.0</td>\n",
       "      <td>8198936.0</td>\n",
       "      <td>9656251.0</td>\n",
       "      <td>278082303.0</td>\n",
       "      <td>14344150.0</td>\n",
       "      <td>171744450.0</td>\n",
       "      <td>8814393.0</td>\n",
       "      <td>36749741.0</td>\n",
       "      <td>308879636.0</td>\n",
       "    </tr>\n",
       "    <tr>\n",
       "      <th>1</th>\n",
       "      <td>1.311448e+19</td>\n",
       "      <td>4/9/2019 13:04</td>\n",
       "      <td>235.0</td>\n",
       "      <td>4/25/2019 8:15</td>\n",
       "      <td>606.0</td>\n",
       "      <td>1365104.0</td>\n",
       "      <td>2.082019e+14</td>\n",
       "      <td>3.368185e+10</td>\n",
       "      <td>3.579401e+13</td>\n",
       "      <td>L77566A</td>\n",
       "      <td>...</td>\n",
       "      <td>20247395.0</td>\n",
       "      <td>19111729.0</td>\n",
       "      <td>18338413.0</td>\n",
       "      <td>17227132.0</td>\n",
       "      <td>608750074.0</td>\n",
       "      <td>1170709.0</td>\n",
       "      <td>526904238.0</td>\n",
       "      <td>15055145.0</td>\n",
       "      <td>53800391.0</td>\n",
       "      <td>653384965.0</td>\n",
       "    </tr>\n",
       "    <tr>\n",
       "      <th>2</th>\n",
       "      <td>1.311448e+19</td>\n",
       "      <td>4/9/2019 17:42</td>\n",
       "      <td>1.0</td>\n",
       "      <td>4/25/2019 11:58</td>\n",
       "      <td>652.0</td>\n",
       "      <td>1361762.0</td>\n",
       "      <td>2.082003e+14</td>\n",
       "      <td>3.376063e+10</td>\n",
       "      <td>3.528151e+13</td>\n",
       "      <td>D42335A</td>\n",
       "      <td>...</td>\n",
       "      <td>19725661.0</td>\n",
       "      <td>14699576.0</td>\n",
       "      <td>17587794.0</td>\n",
       "      <td>6163408.0</td>\n",
       "      <td>229584621.0</td>\n",
       "      <td>395630.0</td>\n",
       "      <td>410692588.0</td>\n",
       "      <td>4215763.0</td>\n",
       "      <td>27883638.0</td>\n",
       "      <td>279807335.0</td>\n",
       "    </tr>\n",
       "    <tr>\n",
       "      <th>3</th>\n",
       "      <td>1.311448e+19</td>\n",
       "      <td>4/10/2019 0:31</td>\n",
       "      <td>486.0</td>\n",
       "      <td>4/25/2019 7:36</td>\n",
       "      <td>171.0</td>\n",
       "      <td>1321509.0</td>\n",
       "      <td>2.082014e+14</td>\n",
       "      <td>3.375034e+10</td>\n",
       "      <td>3.535661e+13</td>\n",
       "      <td>T21824A</td>\n",
       "      <td>...</td>\n",
       "      <td>21388122.0</td>\n",
       "      <td>15146643.0</td>\n",
       "      <td>13994646.0</td>\n",
       "      <td>1097942.0</td>\n",
       "      <td>799538153.0</td>\n",
       "      <td>10849722.0</td>\n",
       "      <td>749039933.0</td>\n",
       "      <td>12797283.0</td>\n",
       "      <td>43324218.0</td>\n",
       "      <td>846028530.0</td>\n",
       "    </tr>\n",
       "    <tr>\n",
       "      <th>4</th>\n",
       "      <td>1.311448e+19</td>\n",
       "      <td>4/12/2019 20:10</td>\n",
       "      <td>565.0</td>\n",
       "      <td>4/25/2019 10:40</td>\n",
       "      <td>954.0</td>\n",
       "      <td>1089009.0</td>\n",
       "      <td>2.082014e+14</td>\n",
       "      <td>3.369980e+10</td>\n",
       "      <td>3.540701e+13</td>\n",
       "      <td>D88865A</td>\n",
       "      <td>...</td>\n",
       "      <td>15259380.0</td>\n",
       "      <td>18962873.0</td>\n",
       "      <td>17124581.0</td>\n",
       "      <td>415218.0</td>\n",
       "      <td>527707248.0</td>\n",
       "      <td>3529801.0</td>\n",
       "      <td>550709500.0</td>\n",
       "      <td>13910322.0</td>\n",
       "      <td>38542814.0</td>\n",
       "      <td>569138589.0</td>\n",
       "    </tr>\n",
       "    <tr>\n",
       "      <th>5</th>\n",
       "      <td>1.311448e+19</td>\n",
       "      <td>4/12/2019 21:37</td>\n",
       "      <td>439.0</td>\n",
       "      <td>4/25/2019 8:08</td>\n",
       "      <td>553.0</td>\n",
       "      <td>1074638.0</td>\n",
       "      <td>2.082014e+14</td>\n",
       "      <td>3.366819e+10</td>\n",
       "      <td>3.529841e+13</td>\n",
       "      <td>T89132C</td>\n",
       "      <td>...</td>\n",
       "      <td>21332918.0</td>\n",
       "      <td>2611113.0</td>\n",
       "      <td>7345361.0</td>\n",
       "      <td>6536448.0</td>\n",
       "      <td>710293538.0</td>\n",
       "      <td>13167974.0</td>\n",
       "      <td>654978277.0</td>\n",
       "      <td>4436057.0</td>\n",
       "      <td>30307754.0</td>\n",
       "      <td>754452212.0</td>\n",
       "    </tr>\n",
       "    <tr>\n",
       "      <th>6</th>\n",
       "      <td>1.311448e+19</td>\n",
       "      <td>4/13/2019 8:41</td>\n",
       "      <td>612.0</td>\n",
       "      <td>4/25/2019 8:16</td>\n",
       "      <td>168.0</td>\n",
       "      <td>1035261.0</td>\n",
       "      <td>2.082014e+14</td>\n",
       "      <td>3.366537e+10</td>\n",
       "      <td>8.676270e+13</td>\n",
       "      <td>9.16456701058919E+015</td>\n",
       "      <td>...</td>\n",
       "      <td>7234465.0</td>\n",
       "      <td>1886295.0</td>\n",
       "      <td>13231006.0</td>\n",
       "      <td>17981760.0</td>\n",
       "      <td>44796223.0</td>\n",
       "      <td>14084934.0</td>\n",
       "      <td>803653557.0</td>\n",
       "      <td>10649768.0</td>\n",
       "      <td>47925246.0</td>\n",
       "      <td>70562047.0</td>\n",
       "    </tr>\n",
       "    <tr>\n",
       "      <th>7</th>\n",
       "      <td>1.304243e+19</td>\n",
       "      <td>4/14/2019 2:11</td>\n",
       "      <td>592.0</td>\n",
       "      <td>4/25/2019 2:26</td>\n",
       "      <td>512.0</td>\n",
       "      <td>951292.0</td>\n",
       "      <td>2.082010e+14</td>\n",
       "      <td>3.376349e+10</td>\n",
       "      <td>8.654640e+13</td>\n",
       "      <td>CELL_208_20_520025_1</td>\n",
       "      <td>...</td>\n",
       "      <td>12189786.0</td>\n",
       "      <td>19735183.0</td>\n",
       "      <td>6858496.0</td>\n",
       "      <td>12075206.0</td>\n",
       "      <td>748906189.0</td>\n",
       "      <td>16149622.0</td>\n",
       "      <td>537601820.0</td>\n",
       "      <td>7714657.0</td>\n",
       "      <td>58813016.0</td>\n",
       "      <td>775350343.0</td>\n",
       "    </tr>\n",
       "    <tr>\n",
       "      <th>8</th>\n",
       "      <td>1.311448e+19</td>\n",
       "      <td>4/14/2019 12:48</td>\n",
       "      <td>121.0</td>\n",
       "      <td>4/25/2019 10:22</td>\n",
       "      <td>960.0</td>\n",
       "      <td>941634.0</td>\n",
       "      <td>2.082014e+14</td>\n",
       "      <td>3.369874e+10</td>\n",
       "      <td>3.556241e+13</td>\n",
       "      <td>T42084A</td>\n",
       "      <td>...</td>\n",
       "      <td>18436641.0</td>\n",
       "      <td>10860867.0</td>\n",
       "      <td>10587264.0</td>\n",
       "      <td>8467177.0</td>\n",
       "      <td>821671285.0</td>\n",
       "      <td>6548349.0</td>\n",
       "      <td>172920486.0</td>\n",
       "      <td>14749031.0</td>\n",
       "      <td>42363146.0</td>\n",
       "      <td>861612261.0</td>\n",
       "    </tr>\n",
       "    <tr>\n",
       "      <th>9</th>\n",
       "      <td>1.304243e+19</td>\n",
       "      <td>4/15/2019 0:32</td>\n",
       "      <td>0.0</td>\n",
       "      <td>4/25/2019 0:40</td>\n",
       "      <td>284.0</td>\n",
       "      <td>864482.0</td>\n",
       "      <td>2.082003e+14</td>\n",
       "      <td>3.365922e+10</td>\n",
       "      <td>3.557311e+13</td>\n",
       "      <td>L20434C</td>\n",
       "      <td>...</td>\n",
       "      <td>16338345.0</td>\n",
       "      <td>6573194.0</td>\n",
       "      <td>12211149.0</td>\n",
       "      <td>974201.0</td>\n",
       "      <td>811355188.0</td>\n",
       "      <td>1591237.0</td>\n",
       "      <td>64856042.0</td>\n",
       "      <td>12815208.0</td>\n",
       "      <td>22417975.0</td>\n",
       "      <td>850570347.0</td>\n",
       "    </tr>\n",
       "  </tbody>\n",
       "</table>\n",
       "<p>10 rows × 55 columns</p>\n",
       "</div>"
      ],
      "text/plain": [
       "      Bearer Id            Start  Start ms              End  End ms  \\\n",
       "0  1.311448e+19   4/4/2019 12:01     770.0  4/25/2019 14:35   662.0   \n",
       "1  1.311448e+19   4/9/2019 13:04     235.0   4/25/2019 8:15   606.0   \n",
       "2  1.311448e+19   4/9/2019 17:42       1.0  4/25/2019 11:58   652.0   \n",
       "3  1.311448e+19   4/10/2019 0:31     486.0   4/25/2019 7:36   171.0   \n",
       "4  1.311448e+19  4/12/2019 20:10     565.0  4/25/2019 10:40   954.0   \n",
       "5  1.311448e+19  4/12/2019 21:37     439.0   4/25/2019 8:08   553.0   \n",
       "6  1.311448e+19   4/13/2019 8:41     612.0   4/25/2019 8:16   168.0   \n",
       "7  1.304243e+19   4/14/2019 2:11     592.0   4/25/2019 2:26   512.0   \n",
       "8  1.311448e+19  4/14/2019 12:48     121.0  4/25/2019 10:22   960.0   \n",
       "9  1.304243e+19   4/15/2019 0:32       0.0   4/25/2019 0:40   284.0   \n",
       "\n",
       "   Dur. (ms)          IMSI  MSISDN/Number          IMEI  \\\n",
       "0  1823652.0  2.082014e+14   3.366496e+10  3.552121e+13   \n",
       "1  1365104.0  2.082019e+14   3.368185e+10  3.579401e+13   \n",
       "2  1361762.0  2.082003e+14   3.376063e+10  3.528151e+13   \n",
       "3  1321509.0  2.082014e+14   3.375034e+10  3.535661e+13   \n",
       "4  1089009.0  2.082014e+14   3.369980e+10  3.540701e+13   \n",
       "5  1074638.0  2.082014e+14   3.366819e+10  3.529841e+13   \n",
       "6  1035261.0  2.082014e+14   3.366537e+10  8.676270e+13   \n",
       "7   951292.0  2.082010e+14   3.376349e+10  8.654640e+13   \n",
       "8   941634.0  2.082014e+14   3.369874e+10  3.556241e+13   \n",
       "9   864482.0  2.082003e+14   3.365922e+10  3.557311e+13   \n",
       "\n",
       "      Last Location Name  ...  Youtube DL (Bytes)  Youtube UL (Bytes)  \\\n",
       "0  9.16456699548519E+015  ...          15854611.0           2501332.0   \n",
       "1                L77566A  ...          20247395.0          19111729.0   \n",
       "2                D42335A  ...          19725661.0          14699576.0   \n",
       "3                T21824A  ...          21388122.0          15146643.0   \n",
       "4                D88865A  ...          15259380.0          18962873.0   \n",
       "5                T89132C  ...          21332918.0           2611113.0   \n",
       "6  9.16456701058919E+015  ...           7234465.0           1886295.0   \n",
       "7   CELL_208_20_520025_1  ...          12189786.0          19735183.0   \n",
       "8                T42084A  ...          18436641.0          10860867.0   \n",
       "9                L20434C  ...          16338345.0           6573194.0   \n",
       "\n",
       "   Netflix DL (Bytes)  Netflix UL (Bytes)  Gaming DL (Bytes)  \\\n",
       "0           8198936.0           9656251.0        278082303.0   \n",
       "1          18338413.0          17227132.0        608750074.0   \n",
       "2          17587794.0           6163408.0        229584621.0   \n",
       "3          13994646.0           1097942.0        799538153.0   \n",
       "4          17124581.0            415218.0        527707248.0   \n",
       "5           7345361.0           6536448.0        710293538.0   \n",
       "6          13231006.0          17981760.0         44796223.0   \n",
       "7           6858496.0          12075206.0        748906189.0   \n",
       "8          10587264.0           8467177.0        821671285.0   \n",
       "9          12211149.0            974201.0        811355188.0   \n",
       "\n",
       "   Gaming UL (Bytes)  Other DL (Bytes)  Other UL (Bytes)  Total UL (Bytes)  \\\n",
       "0         14344150.0       171744450.0         8814393.0        36749741.0   \n",
       "1          1170709.0       526904238.0        15055145.0        53800391.0   \n",
       "2           395630.0       410692588.0         4215763.0        27883638.0   \n",
       "3         10849722.0       749039933.0        12797283.0        43324218.0   \n",
       "4          3529801.0       550709500.0        13910322.0        38542814.0   \n",
       "5         13167974.0       654978277.0         4436057.0        30307754.0   \n",
       "6         14084934.0       803653557.0        10649768.0        47925246.0   \n",
       "7         16149622.0       537601820.0         7714657.0        58813016.0   \n",
       "8          6548349.0       172920486.0        14749031.0        42363146.0   \n",
       "9          1591237.0        64856042.0        12815208.0        22417975.0   \n",
       "\n",
       "   Total DL (Bytes)  \n",
       "0       308879636.0  \n",
       "1       653384965.0  \n",
       "2       279807335.0  \n",
       "3       846028530.0  \n",
       "4       569138589.0  \n",
       "5       754452212.0  \n",
       "6        70562047.0  \n",
       "7       775350343.0  \n",
       "8       861612261.0  \n",
       "9       850570347.0  \n",
       "\n",
       "[10 rows x 55 columns]"
      ]
     },
     "execution_count": 5,
     "metadata": {},
     "output_type": "execute_result"
    }
   ],
   "source": [
    "data.head(10)"
   ]
  },
  {
   "cell_type": "markdown",
   "metadata": {},
   "source": [
    ">> ### Observe which column have missing values"
   ]
  },
  {
   "cell_type": "code",
   "execution_count": 6,
   "metadata": {},
   "outputs": [],
   "source": [
    "missing_columns = data.columns[data.isnull().any()].tolist()"
   ]
  },
  {
   "cell_type": "code",
   "execution_count": 7,
   "metadata": {},
   "outputs": [
    {
     "data": {
      "text/plain": [
       "['Avg RTT DL (ms)',\n",
       " 'Avg RTT UL (ms)',\n",
       " 'TCP DL Retrans. Vol (Bytes)',\n",
       " 'TCP UL Retrans. Vol (Bytes)',\n",
       " 'HTTP DL (Bytes)',\n",
       " 'HTTP UL (Bytes)',\n",
       " 'Nb of sec with 125000B < Vol DL',\n",
       " 'Nb of sec with 1250B < Vol UL < 6250B',\n",
       " 'Nb of sec with 31250B < Vol DL < 125000B',\n",
       " 'Nb of sec with 37500B < Vol UL',\n",
       " 'Nb of sec with 6250B < Vol DL < 31250B',\n",
       " 'Nb of sec with 6250B < Vol UL < 37500B']"
      ]
     },
     "execution_count": 7,
     "metadata": {},
     "output_type": "execute_result"
    }
   ],
   "source": [
    "missing_columns"
   ]
  },
  {
   "cell_type": "markdown",
   "metadata": {},
   "source": [
    ">> #### show how many data is missed in %"
   ]
  },
  {
   "cell_type": "code",
   "execution_count": 8,
   "metadata": {},
   "outputs": [],
   "source": [
    "missing_percentage = (data.isnull().sum() / len(data)) * 100\n",
    "missing_columns_percentage = missing_percentage[missing_percentage > 0]"
   ]
  },
  {
   "cell_type": "code",
   "execution_count": 9,
   "metadata": {},
   "outputs": [
    {
     "data": {
      "text/plain": [
       "Avg RTT DL (ms)                              50.0\n",
       "Avg RTT UL (ms)                              50.0\n",
       "TCP DL Retrans. Vol (Bytes)                  80.0\n",
       "TCP UL Retrans. Vol (Bytes)                  90.0\n",
       "HTTP DL (Bytes)                              80.0\n",
       "HTTP UL (Bytes)                              80.0\n",
       "Nb of sec with 125000B < Vol DL             100.0\n",
       "Nb of sec with 1250B < Vol UL < 6250B        80.0\n",
       "Nb of sec with 31250B < Vol DL < 125000B     80.0\n",
       "Nb of sec with 37500B < Vol UL              100.0\n",
       "Nb of sec with 6250B < Vol DL < 31250B       80.0\n",
       "Nb of sec with 6250B < Vol UL < 37500B       90.0\n",
       "dtype: float64"
      ]
     },
     "execution_count": 9,
     "metadata": {},
     "output_type": "execute_result"
    }
   ],
   "source": [
    "missing_columns_percentage"
   ]
  },
  {
   "cell_type": "markdown",
   "metadata": {},
   "source": [
    ">>  ## Handling missing values"
   ]
  },
  {
   "cell_type": "markdown",
   "metadata": {},
   "source": [
    ">> ### see distribution of the Avg RTT DL (ms)"
   ]
  },
  {
   "cell_type": "code",
   "execution_count": 10,
   "metadata": {},
   "outputs": [
    {
     "data": {
      "image/png": "[encoded data removed]",
      "text/plain": [
       "<Figure size 1000x600 with 1 Axes>"
      ]
     },
     "metadata": {},
     "output_type": "display_data"
    }
   ],
   "source": [
    "from scripts.histogramPlot import plot_histogram\n",
    "plot_histogram(data, 'Avg RTT DL (ms)')"
   ]
  },
  {
   "cell_type": "markdown",
   "metadata": {},
   "source": [
    ">> #### The above distribution shows Multimodal Distribution: This type of distribution occurs when the data has more than one peak, and in this case, there are at least three noticeable peaks at 40 ms, 70 ms, and 100 ms."
   ]
  },
  {
   "cell_type": "markdown",
   "metadata": {},
   "source": [
    ">> #### Cluster-Based Imputation: Using clustering (like K-means), we can group similar data points together and then impute missing values based on the cluster's central tendency (e.g., the mean or median). This method helps preserve the natural structure of the data."
   ]
  },
  {
   "cell_type": "code",
   "execution_count": 11,
   "metadata": {},
   "outputs": [],
   "source": [
    "\n",
    "from scripts.clusterBasedOfHandlingMissingValue import handle_missing_value_cluster\n",
    "\n",
    "data = handle_missing_value_cluster(data, 'Avg RTT DL (ms)', n_clusters=3)  # Handling missing values using K-means"
   ]
  },
  {
   "cell_type": "code",
   "execution_count": 12,
   "metadata": {},
   "outputs": [
    {
     "data": {
      "image/png": "[encoded data removed]",
      "text/plain": [
       "<Figure size 1000x600 with 1 Axes>"
      ]
     },
     "metadata": {},
     "output_type": "display_data"
    }
   ],
   "source": [
    "plot_histogram(data, 'Avg RTT DL (ms)')"
   ]
  },
  {
   "cell_type": "code",
   "execution_count": 14,
   "metadata": {},
   "outputs": [
    {
     "data": {
      "image/png": "[encoded data removed]",
      "text/plain": [
       "<Figure size 1000x600 with 1 Axes>"
      ]
     },
     "metadata": {},
     "output_type": "display_data"
    }
   ],
   "source": [
    "plot_histogram(data, 'Avg RTT UL (ms)')"
   ]
  },
  {
   "cell_type": "markdown",
   "metadata": {},
   "source": [
    ">> ###  This is still a multimodal distribution but with two primary peaks (around 6-8 ms and 8-10 ms), and a smaller, more isolated peak at 16 ms."
   ]
  },
  {
   "cell_type": "code",
   "execution_count": 16,
   "metadata": {},
   "outputs": [],
   "source": [
    "data = handle_missing_value_cluster(data, 'Avg RTT UL (ms)',n_clusters=3)  # Handling missing values using K-means"
   ]
  },
  {
   "cell_type": "code",
   "execution_count": 17,
   "metadata": {},
   "outputs": [
    {
     "data": {
      "image/png": "[encoded data removed]",
      "text/plain": [
       "<Figure size 1000x600 with 1 Axes>"
      ]
     },
     "metadata": {},
     "output_type": "display_data"
    }
   ],
   "source": [
    "plot_histogram(data, 'Avg RTT UL (ms)')"
   ]
  },
  {
   "cell_type": "code",
   "execution_count": 19,
   "metadata": {},
   "outputs": [
    {
     "data": {
      "text/plain": [
       "TCP DL Retrans. Vol (Bytes)                  80.0\n",
       "TCP UL Retrans. Vol (Bytes)                  90.0\n",
       "HTTP DL (Bytes)                              80.0\n",
       "HTTP UL (Bytes)                              80.0\n",
       "Nb of sec with 125000B < Vol DL             100.0\n",
       "Nb of sec with 1250B < Vol UL < 6250B        80.0\n",
       "Nb of sec with 31250B < Vol DL < 125000B     80.0\n",
       "Nb of sec with 37500B < Vol UL              100.0\n",
       "Nb of sec with 6250B < Vol DL < 31250B       80.0\n",
       "Nb of sec with 6250B < Vol UL < 37500B       90.0\n",
       "dtype: float64"
      ]
     },
     "execution_count": 19,
     "metadata": {},
     "output_type": "execute_result"
    }
   ],
   "source": [
    "missing_percentage = (data.isnull().sum() / len(data)) * 100\n",
    "missing_columns_percentage = missing_percentage[missing_percentage > 0]\n",
    "missing_columns_percentage"
   ]
  },
  {
   "cell_type": "code",
   "execution_count": 23,
   "metadata": {},
   "outputs": [],
   "source": [
    "missing_percentage = (data.isnull().sum() / len(data)) * 100\n",
    "\n",
    "# Identify columns with more than 80% missing values\n",
    "columns_to_drop = missing_percentage[missing_percentage >= 80].index\n",
    "\n",
    "# Drop the columns\n",
    "data = data.drop(columns=columns_to_drop)"
   ]
  },
  {
   "cell_type": "markdown",
   "metadata": {},
   "source": [
    ">> ##### check missing colum after we handle missing value"
   ]
  },
  {
   "cell_type": "code",
   "execution_count": 26,
   "metadata": {},
   "outputs": [
    {
     "data": {
      "text/plain": [
       "[]"
      ]
     },
     "execution_count": 26,
     "metadata": {},
     "output_type": "execute_result"
    }
   ],
   "source": [
    "missing_columns = data.columns[data.isnull().any()].tolist()\n",
    "missing_columns"
   ]
  }
 ],
 "metadata": {
  "kernelspec": {
   "display_name": ".venv",
   "language": "python",
   "name": "python3"
  },
  "language_info": {
   "codemirror_mode": {
    "name": "ipython",
    "version": 3
   },
   "file_extension": ".py",
   "mimetype": "text/x-python",
   "name": "python",
   "nbconvert_exporter": "python",
   "pygments_lexer": "ipython3",
   "version": "3.10.12"
  }
 },
 "nbformat": 4,
 "nbformat_minor": 2
}
